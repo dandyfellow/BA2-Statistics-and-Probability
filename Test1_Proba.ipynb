{
 "cells": [
  {
   "cell_type": "code",
   "execution_count": 11,
   "id": "d42f25af-ed44-4537-bc17-50ecf376db7c",
   "metadata": {},
   "outputs": [
    {
     "name": "stdout",
     "output_type": "stream",
     "text": [
      "Permutations of [1, 2, 3, 4] taking 4 at a time:\n",
      "(1, 2, 3, 4)\n",
      "(1, 2, 4, 3)\n",
      "(1, 3, 2, 4)\n",
      "(1, 3, 4, 2)\n",
      "(1, 4, 2, 3)\n",
      "(1, 4, 3, 2)\n",
      "(2, 1, 3, 4)\n",
      "(2, 1, 4, 3)\n",
      "(2, 3, 1, 4)\n",
      "(2, 3, 4, 1)\n",
      "(2, 4, 1, 3)\n",
      "(2, 4, 3, 1)\n",
      "(3, 1, 2, 4)\n",
      "(3, 1, 4, 2)\n",
      "(3, 2, 1, 4)\n",
      "(3, 2, 4, 1)\n",
      "(3, 4, 1, 2)\n",
      "(3, 4, 2, 1)\n",
      "(4, 1, 2, 3)\n",
      "(4, 1, 3, 2)\n",
      "(4, 2, 1, 3)\n",
      "(4, 2, 3, 1)\n",
      "(4, 3, 1, 2)\n",
      "(4, 3, 2, 1)\n",
      "Number of permutations:  24\n",
      "Combinations of [1, 2, 3, 4] taking 2 at a time:\n",
      "(1, 2)\n",
      "(1, 3)\n",
      "(1, 4)\n",
      "(2, 3)\n",
      "(2, 4)\n",
      "(3, 4)\n",
      "Number of combinations:  6\n"
     ]
    }
   ],
   "source": [
    "import itertools\n",
    "\n",
    "data = [1, 2, 3, 4]\n",
    "\n",
    "# Length of each permutation\n",
    "r = len(data)  # Change this to len(data) for full permutations\n",
    "\n",
    "# Generate permutations\n",
    "perms = list(itertools.permutations(data, r))\n",
    "\n",
    "# Display result\n",
    "print(f\"Permutations of {data} taking {r} at a time:\")\n",
    "for p in perms:\n",
    "    print(p)\n",
    "\n",
    "print(\"Number of permutations: \", len(perms))\n",
    "# Generate combinations\n",
    "d = 2\n",
    "combs = list(itertools.combinations(data, d))\n",
    "\n",
    "# Display result\n",
    "print(f\"Combinations of {data} taking {d} at a time:\")\n",
    "for c in combs:\n",
    "    print(c)\n",
    "print(\"Number of combinations: \", len(combs))"
   ]
  },
  {
   "cell_type": "code",
   "execution_count": null,
   "id": "859458fb-0617-4eaa-916f-b90cabb88948",
   "metadata": {},
   "outputs": [],
   "source": []
  }
 ],
 "metadata": {
  "kernelspec": {
   "display_name": "Python [conda env:base] *",
   "language": "python",
   "name": "conda-base-py"
  },
  "language_info": {
   "codemirror_mode": {
    "name": "ipython",
    "version": 3
   },
   "file_extension": ".py",
   "mimetype": "text/x-python",
   "name": "python",
   "nbconvert_exporter": "python",
   "pygments_lexer": "ipython3",
   "version": "3.12.7"
  }
 },
 "nbformat": 4,
 "nbformat_minor": 5
}
